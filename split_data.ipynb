{
 "cells": [
  {
   "cell_type": "markdown",
   "metadata": {},
   "source": [
    "# Split data"
   ]
  },
  {
   "cell_type": "code",
   "execution_count": 103,
   "metadata": {},
   "outputs": [
    {
     "name": "stderr",
     "output_type": "stream",
     "text": [
      "/var/folders/5g/3_n1b4wj6rd2cr07gfh2bv6w0000gn/T/ipykernel_16513/527886185.py:4: DtypeWarning: Columns (26) have mixed types. Specify dtype option on import or set low_memory=False.\n",
      "  df = pd.read_csv('train.csv')\n"
     ]
    },
    {
     "data": {
      "text/plain": [
       "Index(['ID', 'Customer_ID', 'Month', 'Name', 'Age', 'SSN', 'Occupation',\n",
       "       'Annual_Income', 'Monthly_Inhand_Salary', 'Num_Bank_Accounts',\n",
       "       'Num_Credit_Card', 'Interest_Rate', 'Num_of_Loan', 'Type_of_Loan',\n",
       "       'Delay_from_due_date', 'Num_of_Delayed_Payment', 'Changed_Credit_Limit',\n",
       "       'Num_Credit_Inquiries', 'Credit_Mix', 'Outstanding_Debt',\n",
       "       'Credit_Utilization_Ratio', 'Credit_History_Age',\n",
       "       'Payment_of_Min_Amount', 'Total_EMI_per_month',\n",
       "       'Amount_invested_monthly', 'Payment_Behaviour', 'Monthly_Balance',\n",
       "       'Credit_Score'],\n",
       "      dtype='object')"
      ]
     },
     "execution_count": 103,
     "metadata": {},
     "output_type": "execute_result"
    }
   ],
   "source": [
    "import pandas as pd\n",
    "\n",
    "# Charger le fichier CSV complet\n",
    "df = pd.read_csv('train.csv')\n",
    "df.columns"
   ]
  },
  {
   "cell_type": "code",
   "execution_count": 104,
   "metadata": {},
   "outputs": [],
   "source": [
    "# Sélectionner les colonnes pour chaque groupe\n",
    "customer_columns = [\n",
    "    'Customer_ID', 'Name', 'Age', 'SSN', 'Occupation',\n",
    "    'Annual_Income', 'Monthly_Inhand_Salary', 'Num_Bank_Accounts',\n",
    "    'Num_Credit_Card', 'Interest_Rate', 'Num_of_Loan', 'Type_of_Loan',\n",
    "    'Num_of_Delayed_Payment', 'Outstanding_Debt', 'Payment_Behaviour',\n",
    "    'Monthly_Balance', 'Credit_Score'\n",
    "]"
   ]
  },
  {
   "cell_type": "code",
   "execution_count": 105,
   "metadata": {},
   "outputs": [],
   "source": [
    "credit_columns = [\n",
    "    'ID','Customer_ID', 'Month', 'Delay_from_due_date', 'Changed_Credit_Limit','Num_Credit_Inquiries',\n",
    "    'Credit_Mix', 'Credit_Utilization_Ratio', 'Credit_History_Age',\n",
    "    'Payment_of_Min_Amount', 'Total_EMI_per_month', 'Amount_invested_monthly'\n",
    "]"
   ]
  },
  {
   "cell_type": "code",
   "execution_count": 106,
   "metadata": {},
   "outputs": [],
   "source": [
    "# Créer les DataFrames pour chaque groupe\n",
    "df_customer = df[customer_columns]\n",
    "df_credit = df[credit_columns]"
   ]
  },
  {
   "cell_type": "code",
   "execution_count": 107,
   "metadata": {},
   "outputs": [
    {
     "data": {
      "text/html": [
       "<div>\n",
       "<style scoped>\n",
       "    .dataframe tbody tr th:only-of-type {\n",
       "        vertical-align: middle;\n",
       "    }\n",
       "\n",
       "    .dataframe tbody tr th {\n",
       "        vertical-align: top;\n",
       "    }\n",
       "\n",
       "    .dataframe thead th {\n",
       "        text-align: right;\n",
       "    }\n",
       "</style>\n",
       "<table border=\"1\" class=\"dataframe\">\n",
       "  <thead>\n",
       "    <tr style=\"text-align: right;\">\n",
       "      <th></th>\n",
       "      <th>ID</th>\n",
       "      <th>Customer_ID</th>\n",
       "      <th>Month</th>\n",
       "      <th>Delay_from_due_date</th>\n",
       "      <th>Changed_Credit_Limit</th>\n",
       "      <th>Num_Credit_Inquiries</th>\n",
       "      <th>Credit_Mix</th>\n",
       "      <th>Credit_Utilization_Ratio</th>\n",
       "      <th>Credit_History_Age</th>\n",
       "      <th>Payment_of_Min_Amount</th>\n",
       "      <th>Total_EMI_per_month</th>\n",
       "      <th>Amount_invested_monthly</th>\n",
       "    </tr>\n",
       "  </thead>\n",
       "  <tbody>\n",
       "    <tr>\n",
       "      <th>0</th>\n",
       "      <td>0x1602</td>\n",
       "      <td>CUS_0xd40</td>\n",
       "      <td>January</td>\n",
       "      <td>3</td>\n",
       "      <td>11.27</td>\n",
       "      <td>4.0</td>\n",
       "      <td>_</td>\n",
       "      <td>26.822620</td>\n",
       "      <td>22 Years and 1 Months</td>\n",
       "      <td>No</td>\n",
       "      <td>49.574949</td>\n",
       "      <td>80.41529543900253</td>\n",
       "    </tr>\n",
       "    <tr>\n",
       "      <th>2</th>\n",
       "      <td>0x1604</td>\n",
       "      <td>CUS_0xd40</td>\n",
       "      <td>March</td>\n",
       "      <td>3</td>\n",
       "      <td>_</td>\n",
       "      <td>4.0</td>\n",
       "      <td>Good</td>\n",
       "      <td>28.609352</td>\n",
       "      <td>22 Years and 3 Months</td>\n",
       "      <td>No</td>\n",
       "      <td>49.574949</td>\n",
       "      <td>81.699521264648</td>\n",
       "    </tr>\n",
       "    <tr>\n",
       "      <th>3</th>\n",
       "      <td>0x1605</td>\n",
       "      <td>CUS_0xd40</td>\n",
       "      <td>April</td>\n",
       "      <td>5</td>\n",
       "      <td>6.27</td>\n",
       "      <td>4.0</td>\n",
       "      <td>Good</td>\n",
       "      <td>31.377862</td>\n",
       "      <td>22 Years and 4 Months</td>\n",
       "      <td>No</td>\n",
       "      <td>49.574949</td>\n",
       "      <td>199.4580743910713</td>\n",
       "    </tr>\n",
       "    <tr>\n",
       "      <th>4</th>\n",
       "      <td>0x1606</td>\n",
       "      <td>CUS_0xd40</td>\n",
       "      <td>May</td>\n",
       "      <td>6</td>\n",
       "      <td>11.27</td>\n",
       "      <td>4.0</td>\n",
       "      <td>Good</td>\n",
       "      <td>24.797347</td>\n",
       "      <td>22 Years and 5 Months</td>\n",
       "      <td>No</td>\n",
       "      <td>49.574949</td>\n",
       "      <td>41.420153086217326</td>\n",
       "    </tr>\n",
       "    <tr>\n",
       "      <th>5</th>\n",
       "      <td>0x1607</td>\n",
       "      <td>CUS_0xd40</td>\n",
       "      <td>June</td>\n",
       "      <td>8</td>\n",
       "      <td>9.27</td>\n",
       "      <td>4.0</td>\n",
       "      <td>Good</td>\n",
       "      <td>27.262259</td>\n",
       "      <td>22 Years and 6 Months</td>\n",
       "      <td>No</td>\n",
       "      <td>49.574949</td>\n",
       "      <td>62.430172331195294</td>\n",
       "    </tr>\n",
       "    <tr>\n",
       "      <th>...</th>\n",
       "      <td>...</td>\n",
       "      <td>...</td>\n",
       "      <td>...</td>\n",
       "      <td>...</td>\n",
       "      <td>...</td>\n",
       "      <td>...</td>\n",
       "      <td>...</td>\n",
       "      <td>...</td>\n",
       "      <td>...</td>\n",
       "      <td>...</td>\n",
       "      <td>...</td>\n",
       "      <td>...</td>\n",
       "    </tr>\n",
       "    <tr>\n",
       "      <th>99995</th>\n",
       "      <td>0x25fe9</td>\n",
       "      <td>CUS_0x942c</td>\n",
       "      <td>April</td>\n",
       "      <td>23</td>\n",
       "      <td>11.5</td>\n",
       "      <td>3.0</td>\n",
       "      <td>_</td>\n",
       "      <td>34.663572</td>\n",
       "      <td>31 Years and 6 Months</td>\n",
       "      <td>No</td>\n",
       "      <td>35.104023</td>\n",
       "      <td>60.97133255718485</td>\n",
       "    </tr>\n",
       "    <tr>\n",
       "      <th>99996</th>\n",
       "      <td>0x25fea</td>\n",
       "      <td>CUS_0x942c</td>\n",
       "      <td>May</td>\n",
       "      <td>18</td>\n",
       "      <td>11.5</td>\n",
       "      <td>3.0</td>\n",
       "      <td>_</td>\n",
       "      <td>40.565631</td>\n",
       "      <td>31 Years and 7 Months</td>\n",
       "      <td>No</td>\n",
       "      <td>35.104023</td>\n",
       "      <td>54.18595028760385</td>\n",
       "    </tr>\n",
       "    <tr>\n",
       "      <th>99997</th>\n",
       "      <td>0x25feb</td>\n",
       "      <td>CUS_0x942c</td>\n",
       "      <td>June</td>\n",
       "      <td>27</td>\n",
       "      <td>11.5</td>\n",
       "      <td>3.0</td>\n",
       "      <td>Good</td>\n",
       "      <td>41.255522</td>\n",
       "      <td>31 Years and 8 Months</td>\n",
       "      <td>No</td>\n",
       "      <td>35.104023</td>\n",
       "      <td>24.02847744864441</td>\n",
       "    </tr>\n",
       "    <tr>\n",
       "      <th>99998</th>\n",
       "      <td>0x25fec</td>\n",
       "      <td>CUS_0x942c</td>\n",
       "      <td>July</td>\n",
       "      <td>20</td>\n",
       "      <td>11.5</td>\n",
       "      <td>3.0</td>\n",
       "      <td>Good</td>\n",
       "      <td>33.638208</td>\n",
       "      <td>31 Years and 9 Months</td>\n",
       "      <td>No</td>\n",
       "      <td>35.104023</td>\n",
       "      <td>251.67258219721603</td>\n",
       "    </tr>\n",
       "    <tr>\n",
       "      <th>99999</th>\n",
       "      <td>0x25fed</td>\n",
       "      <td>CUS_0x942c</td>\n",
       "      <td>August</td>\n",
       "      <td>18</td>\n",
       "      <td>11.5</td>\n",
       "      <td>3.0</td>\n",
       "      <td>Good</td>\n",
       "      <td>34.192463</td>\n",
       "      <td>31 Years and 10 Months</td>\n",
       "      <td>No</td>\n",
       "      <td>35.104023</td>\n",
       "      <td>167.1638651610451</td>\n",
       "    </tr>\n",
       "  </tbody>\n",
       "</table>\n",
       "<p>85172 rows × 12 columns</p>\n",
       "</div>"
      ],
      "text/plain": [
       "            ID Customer_ID    Month  Delay_from_due_date Changed_Credit_Limit  \\\n",
       "0       0x1602   CUS_0xd40  January                    3                11.27   \n",
       "2       0x1604   CUS_0xd40    March                    3                    _   \n",
       "3       0x1605   CUS_0xd40    April                    5                 6.27   \n",
       "4       0x1606   CUS_0xd40      May                    6                11.27   \n",
       "5       0x1607   CUS_0xd40     June                    8                 9.27   \n",
       "...        ...         ...      ...                  ...                  ...   \n",
       "99995  0x25fe9  CUS_0x942c    April                   23                 11.5   \n",
       "99996  0x25fea  CUS_0x942c      May                   18                 11.5   \n",
       "99997  0x25feb  CUS_0x942c     June                   27                 11.5   \n",
       "99998  0x25fec  CUS_0x942c     July                   20                 11.5   \n",
       "99999  0x25fed  CUS_0x942c   August                   18                 11.5   \n",
       "\n",
       "       Num_Credit_Inquiries Credit_Mix  Credit_Utilization_Ratio  \\\n",
       "0                       4.0          _                 26.822620   \n",
       "2                       4.0       Good                 28.609352   \n",
       "3                       4.0       Good                 31.377862   \n",
       "4                       4.0       Good                 24.797347   \n",
       "5                       4.0       Good                 27.262259   \n",
       "...                     ...        ...                       ...   \n",
       "99995                   3.0          _                 34.663572   \n",
       "99996                   3.0          _                 40.565631   \n",
       "99997                   3.0       Good                 41.255522   \n",
       "99998                   3.0       Good                 33.638208   \n",
       "99999                   3.0       Good                 34.192463   \n",
       "\n",
       "           Credit_History_Age Payment_of_Min_Amount  Total_EMI_per_month  \\\n",
       "0       22 Years and 1 Months                    No            49.574949   \n",
       "2       22 Years and 3 Months                    No            49.574949   \n",
       "3       22 Years and 4 Months                    No            49.574949   \n",
       "4       22 Years and 5 Months                    No            49.574949   \n",
       "5       22 Years and 6 Months                    No            49.574949   \n",
       "...                       ...                   ...                  ...   \n",
       "99995   31 Years and 6 Months                    No            35.104023   \n",
       "99996   31 Years and 7 Months                    No            35.104023   \n",
       "99997   31 Years and 8 Months                    No            35.104023   \n",
       "99998   31 Years and 9 Months                    No            35.104023   \n",
       "99999  31 Years and 10 Months                    No            35.104023   \n",
       "\n",
       "      Amount_invested_monthly  \n",
       "0           80.41529543900253  \n",
       "2             81.699521264648  \n",
       "3           199.4580743910713  \n",
       "4          41.420153086217326  \n",
       "5          62.430172331195294  \n",
       "...                       ...  \n",
       "99995       60.97133255718485  \n",
       "99996       54.18595028760385  \n",
       "99997       24.02847744864441  \n",
       "99998      251.67258219721603  \n",
       "99999       167.1638651610451  \n",
       "\n",
       "[85172 rows x 12 columns]"
      ]
     },
     "execution_count": 107,
     "metadata": {},
     "output_type": "execute_result"
    }
   ],
   "source": [
    "df_credit = df_credit.dropna()\n",
    "df_customer = df_customer.dropna()\n",
    "df_credit"
   ]
  },
  {
   "cell_type": "code",
   "execution_count": 108,
   "metadata": {},
   "outputs": [],
   "source": [
    "# Enregistrer les DataFrames dans des fichiers CSV distincts\n",
    "df_customer.to_csv('customer_data.csv', index=False)\n",
    "df_credit.to_csv('credit_data.csv', index=False)"
   ]
  },
  {
   "cell_type": "code",
   "execution_count": 109,
   "metadata": {},
   "outputs": [
    {
     "data": {
      "text/plain": [
       "(100000, 28)"
      ]
     },
     "execution_count": 109,
     "metadata": {},
     "output_type": "execute_result"
    }
   ],
   "source": [
    "df.shape"
   ]
  },
  {
   "cell_type": "code",
   "execution_count": 110,
   "metadata": {},
   "outputs": [
    {
     "data": {
      "text/plain": [
       "(62236, 17)"
      ]
     },
     "execution_count": 110,
     "metadata": {},
     "output_type": "execute_result"
    }
   ],
   "source": [
    "df_customer.shape"
   ]
  },
  {
   "cell_type": "code",
   "execution_count": 111,
   "metadata": {},
   "outputs": [
    {
     "data": {
      "text/plain": [
       "(85172, 12)"
      ]
     },
     "execution_count": 111,
     "metadata": {},
     "output_type": "execute_result"
    }
   ],
   "source": [
    "df_credit.shape"
   ]
  },
  {
   "cell_type": "code",
   "execution_count": 112,
   "metadata": {},
   "outputs": [
    {
     "data": {
      "text/plain": [
       "Index(['ID', 'Customer_ID', 'Month', 'Delay_from_due_date',\n",
       "       'Changed_Credit_Limit', 'Num_Credit_Inquiries', 'Credit_Mix',\n",
       "       'Credit_Utilization_Ratio', 'Credit_History_Age',\n",
       "       'Payment_of_Min_Amount', 'Total_EMI_per_month',\n",
       "       'Amount_invested_monthly'],\n",
       "      dtype='object')"
      ]
     },
     "execution_count": 112,
     "metadata": {},
     "output_type": "execute_result"
    }
   ],
   "source": [
    "df_credit.columns"
   ]
  },
  {
   "cell_type": "code",
   "execution_count": 113,
   "metadata": {},
   "outputs": [
    {
     "data": {
      "text/plain": [
       "Index(['Customer_ID', 'Name', 'Age', 'SSN', 'Occupation', 'Annual_Income',\n",
       "       'Monthly_Inhand_Salary', 'Num_Bank_Accounts', 'Num_Credit_Card',\n",
       "       'Interest_Rate', 'Num_of_Loan', 'Type_of_Loan',\n",
       "       'Num_of_Delayed_Payment', 'Outstanding_Debt', 'Payment_Behaviour',\n",
       "       'Monthly_Balance', 'Credit_Score'],\n",
       "      dtype='object')"
      ]
     },
     "execution_count": 113,
     "metadata": {},
     "output_type": "execute_result"
    }
   ],
   "source": [
    "df_customer.columns"
   ]
  },
  {
   "cell_type": "code",
   "execution_count": 114,
   "metadata": {},
   "outputs": [
    {
     "data": {
      "text/plain": [
       "True"
      ]
     },
     "execution_count": 114,
     "metadata": {},
     "output_type": "execute_result"
    }
   ],
   "source": [
    "df.isnull().values.any()"
   ]
  },
  {
   "cell_type": "code",
   "execution_count": 115,
   "metadata": {},
   "outputs": [
    {
     "data": {
      "text/plain": [
       "60071"
      ]
     },
     "execution_count": 115,
     "metadata": {},
     "output_type": "execute_result"
    }
   ],
   "source": [
    "df.isnull().sum().sum()"
   ]
  },
  {
   "cell_type": "code",
   "execution_count": 116,
   "metadata": {},
   "outputs": [
    {
     "data": {
      "text/plain": [
       "0"
      ]
     },
     "execution_count": 116,
     "metadata": {},
     "output_type": "execute_result"
    }
   ],
   "source": [
    "df_customer.isnull().sum().sum()"
   ]
  },
  {
   "cell_type": "code",
   "execution_count": 117,
   "metadata": {},
   "outputs": [
    {
     "data": {
      "text/plain": [
       "0"
      ]
     },
     "execution_count": 117,
     "metadata": {},
     "output_type": "execute_result"
    }
   ],
   "source": [
    "df_credit.isnull().sum().sum()"
   ]
  },
  {
   "cell_type": "markdown",
   "metadata": {},
   "source": [
    "## customer repartition"
   ]
  },
  {
   "cell_type": "code",
   "execution_count": 118,
   "metadata": {},
   "outputs": [
    {
     "data": {
      "image/png": "[encoded data removed]",
      "text/plain": [
       "<Figure size 800x600 with 1 Axes>"
      ]
     },
     "metadata": {},
     "output_type": "display_data"
    }
   ],
   "source": [
    "import matplotlib.pyplot as plt\n",
    "import seaborn as sns\n",
    "\n",
    "# Déterminer les valeurs les plus présentes pour l'âge\n",
    "top_age_values = df_customer['Age'].value_counts().index[:10]\n",
    "\n",
    "# Filtrer le dataframe pour ne contenir que ces valeurs\n",
    "filtered_df = df_customer[df_customer['Age'].isin(top_age_values)]\n",
    "\n",
    "# Définir la taille de la figure\n",
    "plt.figure(figsize=(8, 6))\n",
    "\n",
    "# Histogramme tronqué de l'âge\n",
    "sns.histplot(filtered_df['Age'], bins=30, kde=True, color='skyblue')\n",
    "plt.title('Distribution des âges (valeurs les plus présentes)')\n",
    "\n",
    "# Afficher la figure\n",
    "plt.show()\n"
   ]
  },
  {
   "cell_type": "code",
   "execution_count": 119,
   "metadata": {},
   "outputs": [
    {
     "name": "stdout",
     "output_type": "stream",
     "text": [
      "       Annual_Income              Income_Group\n",
      "0           19114.12        (18000.0, 20000.0]\n",
      "6           19114.12        (18000.0, 20000.0]\n",
      "8           34847.84        (34000.0, 36000.0]\n",
      "9           34847.84        (34000.0, 36000.0]\n",
      "10               NaN  (12102000.0, 12104000.0]\n",
      "...              ...                       ...\n",
      "99994       39628.99        (38000.0, 40000.0]\n",
      "99995       39628.99        (38000.0, 40000.0]\n",
      "99996       39628.99        (38000.0, 40000.0]\n",
      "99997       39628.99        (38000.0, 40000.0]\n",
      "99999            NaN  (12102000.0, 12104000.0]\n",
      "\n",
      "[62236 rows x 2 columns]\n"
     ]
    }
   ],
   "source": [
    "import pandas as pd\n",
    "\n",
    "# Convertir la colonne 'Annual_Income' en type numérique\n",
    "df_customer['Annual_Income'] = pd.to_numeric(df_customer['Annual_Income'], errors='coerce')\n",
    "\n",
    "# Définir les intervalles pour regrouper les revenus annuels\n",
    "income_bins = pd.interval_range(start=df_customer['Annual_Income'].min() // 2000 * 2000,\n",
    "                                end=df_customer['Annual_Income'].max() // 2000 * 2000 + 2000,\n",
    "                                freq=2000)\n",
    "\n",
    "# Ajouter une colonne 'Income_Group' au dataframe en fonction des intervalles\n",
    "df_customer['Income_Group'] = pd.cut(df_customer['Annual_Income'], bins=income_bins)\n",
    "\n",
    "# Afficher le dataframe avec la nouvelle colonne\n",
    "print(df_customer[['Annual_Income', 'Income_Group']])\n"
   ]
  },
  {
   "cell_type": "code",
   "execution_count": 120,
   "metadata": {},
   "outputs": [
    {
     "name": "stdout",
     "output_type": "stream",
     "text": [
      "Décompte des groupes de revenus :\n",
      "(6000.0, 8000.0]            1154\n",
      "(8000.0, 10000.0]           2532\n",
      "(10000.0, 12000.0]          1330\n",
      "(12000.0, 14000.0]           680\n",
      "(14000.0, 16000.0]          3689\n",
      "                            ... \n",
      "(24190000.0, 24192000.0]       0\n",
      "(24192000.0, 24194000.0]       0\n",
      "(24194000.0, 24196000.0]       0\n",
      "(24196000.0, 24198000.0]       0\n",
      "(24198000.0, 24200000.0]       1\n",
      "Name: Income_Group, Length: 12097, dtype: int64\n"
     ]
    }
   ],
   "source": [
    "import pandas as pd\n",
    "\n",
    "# Convertir la colonne 'Annual_Income' en type numérique\n",
    "df_customer['Annual_Income'] = pd.to_numeric(df_customer['Annual_Income'], errors='coerce')\n",
    "\n",
    "# Définir les intervalles pour regrouper les revenus annuels\n",
    "income_bins = pd.interval_range(start=df_customer['Annual_Income'].min() // 2000 * 2000,\n",
    "                                end=df_customer['Annual_Income'].max() // 2000 * 2000 + 2000,\n",
    "                                freq=2000)\n",
    "\n",
    "# Ajouter une colonne 'Income_Group' au dataframe en fonction des intervalles\n",
    "df_customer['Income_Group'] = pd.cut(df_customer['Annual_Income'], bins=income_bins)\n",
    "\n",
    "# Obtenir le décompte des valeurs de 'Income_Group'\n",
    "income_group_counts = df_customer['Income_Group'].value_counts().sort_index()\n",
    "\n",
    "# Afficher le décompte des groupes de revenus\n",
    "print(\"Décompte des groupes de revenus :\")\n",
    "print(income_group_counts)\n"
   ]
  },
  {
   "cell_type": "code",
   "execution_count": 121,
   "metadata": {},
   "outputs": [
    {
     "name": "stdout",
     "output_type": "stream",
     "text": [
      "Nombre total de groupes de revenus : 666\n"
     ]
    }
   ],
   "source": [
    "import pandas as pd\n",
    "\n",
    "# Convertir la colonne 'Annual_Income' en type numérique\n",
    "df_customer['Annual_Income'] = pd.to_numeric(df_customer['Annual_Income'], errors='coerce')\n",
    "\n",
    "# Définir les intervalles pour regrouper les revenus annuels\n",
    "income_bins = pd.interval_range(start=df_customer['Annual_Income'].min() // 2000 * 2000,\n",
    "                                end=df_customer['Annual_Income'].max() // 2000 * 2000 + 2000,\n",
    "                                freq=2000)\n",
    "\n",
    "# Ajouter une colonne 'Income_Group' au dataframe en fonction des intervalles\n",
    "df_customer['Income_Group'] = pd.cut(df_customer['Annual_Income'], bins=income_bins)\n",
    "\n",
    "# Obtenir le nombre total de valeurs uniques dans 'Income_Group'\n",
    "total_income_groups = df_customer['Income_Group'].nunique()\n",
    "\n",
    "# Afficher le nombre total de valeurs uniques\n",
    "print(\"Nombre total de groupes de revenus :\", total_income_groups)\n"
   ]
  },
  {
   "cell_type": "code",
   "execution_count": 122,
   "metadata": {},
   "outputs": [
    {
     "name": "stdout",
     "output_type": "stream",
     "text": [
      "Les 10 premiers groupes de revenus (par intervalles de 5000€) :\n",
      "(0.0, 100000.0]             50877\n",
      "(100000.0, 200000.0]         6474\n",
      "(12000000.0, 12100000.0]     4300\n",
      "(7800000.0, 7900000.0]          8\n",
      "(20000000.0, 20100000.0]        7\n",
      "(19800000.0, 19900000.0]        7\n",
      "(14000000.0, 14100000.0]        6\n",
      "(11300000.0, 11400000.0]        6\n",
      "(21800000.0, 21900000.0]        6\n",
      "(12600000.0, 12700000.0]        6\n",
      "Name: Income_Group, dtype: int64\n",
      "Nombre total de groupes de revenus uniques : 221\n"
     ]
    }
   ],
   "source": [
    "import pandas as pd\n",
    "\n",
    "# Convertir la colonne 'Annual_Income' en type numérique\n",
    "df_customer['Annual_Income'] = pd.to_numeric(df_customer['Annual_Income'], errors='coerce')\n",
    "\n",
    "# Définir les intervalles pour regrouper les revenus annuels par 5000€\n",
    "income_bins = pd.interval_range(start=df_customer['Annual_Income'].min() // 100000 * 100000,\n",
    "                                end=df_customer['Annual_Income'].max() // 100000 * 100000 + 100000,\n",
    "                                freq=100000)\n",
    "\n",
    "# Ajouter une colonne 'Income_Group' au dataframe en fonction des intervalles\n",
    "df_customer['Income_Group'] = pd.cut(df_customer['Annual_Income'], bins=income_bins)\n",
    "\n",
    "# Obtenir le décompte des valeurs de 'Income_Group' et trier les résultats\n",
    "income_group_counts = df_customer['Income_Group'].value_counts().sort_values(ascending=False)\n",
    "\n",
    "# Afficher les 10 premiers groupes de revenus par décompte\n",
    "print(\"Les 10 premiers groupes de revenus (par intervalles de 5000€) :\")\n",
    "print(income_group_counts.head(10))\n",
    "\n",
    "# Obtenir le nombre total de valeurs uniques dans 'Income_Group'\n",
    "total_income_groups = df_customer['Income_Group'].nunique()\n",
    "\n",
    "# Afficher le nombre total de valeurs uniques\n",
    "print(\"Nombre total de groupes de revenus uniques :\", total_income_groups)\n"
   ]
  },
  {
   "cell_type": "code",
   "execution_count": 129,
   "metadata": {},
   "outputs": [
    {
     "data": {
      "text/html": [
       "<div>\n",
       "<style scoped>\n",
       "    .dataframe tbody tr th:only-of-type {\n",
       "        vertical-align: middle;\n",
       "    }\n",
       "\n",
       "    .dataframe tbody tr th {\n",
       "        vertical-align: top;\n",
       "    }\n",
       "\n",
       "    .dataframe thead th {\n",
       "        text-align: right;\n",
       "    }\n",
       "</style>\n",
       "<table border=\"1\" class=\"dataframe\">\n",
       "  <thead>\n",
       "    <tr style=\"text-align: right;\">\n",
       "      <th></th>\n",
       "      <th>Customer_ID</th>\n",
       "      <th>Name</th>\n",
       "      <th>Age</th>\n",
       "      <th>SSN</th>\n",
       "      <th>Occupation</th>\n",
       "      <th>Annual_Income</th>\n",
       "      <th>Monthly_Inhand_Salary</th>\n",
       "      <th>Num_Bank_Accounts</th>\n",
       "      <th>Num_Credit_Card</th>\n",
       "      <th>Interest_Rate</th>\n",
       "      <th>Num_of_Loan</th>\n",
       "      <th>Type_of_Loan</th>\n",
       "      <th>Num_of_Delayed_Payment</th>\n",
       "      <th>Outstanding_Debt</th>\n",
       "      <th>Payment_Behaviour</th>\n",
       "      <th>Monthly_Balance</th>\n",
       "      <th>Credit_Score</th>\n",
       "      <th>Income_Group</th>\n",
       "    </tr>\n",
       "  </thead>\n",
       "  <tbody>\n",
       "    <tr>\n",
       "      <th>0</th>\n",
       "      <td>CUS_0xd40</td>\n",
       "      <td>Aaron Maashoh</td>\n",
       "      <td>23</td>\n",
       "      <td>821-00-0265</td>\n",
       "      <td>Scientist</td>\n",
       "      <td>19114.12</td>\n",
       "      <td>1824.843333</td>\n",
       "      <td>3</td>\n",
       "      <td>4</td>\n",
       "      <td>3</td>\n",
       "      <td>4</td>\n",
       "      <td>Auto Loan, Credit-Builder Loan, Personal Loan,...</td>\n",
       "      <td>7</td>\n",
       "      <td>809.98</td>\n",
       "      <td>High_spent_Small_value_payments</td>\n",
       "      <td>312.49408867943663</td>\n",
       "      <td>Good</td>\n",
       "      <td>(0.0, 100000.0]</td>\n",
       "    </tr>\n",
       "    <tr>\n",
       "      <th>6</th>\n",
       "      <td>CUS_0xd40</td>\n",
       "      <td>Aaron Maashoh</td>\n",
       "      <td>23</td>\n",
       "      <td>821-00-0265</td>\n",
       "      <td>Scientist</td>\n",
       "      <td>19114.12</td>\n",
       "      <td>1824.843333</td>\n",
       "      <td>3</td>\n",
       "      <td>4</td>\n",
       "      <td>3</td>\n",
       "      <td>4</td>\n",
       "      <td>Auto Loan, Credit-Builder Loan, Personal Loan,...</td>\n",
       "      <td>8_</td>\n",
       "      <td>809.98</td>\n",
       "      <td>Low_spent_Small_value_payments</td>\n",
       "      <td>244.5653167062043</td>\n",
       "      <td>Good</td>\n",
       "      <td>(0.0, 100000.0]</td>\n",
       "    </tr>\n",
       "    <tr>\n",
       "      <th>1306</th>\n",
       "      <td>CUS_0x258b</td>\n",
       "      <td>Alastair Sharpe</td>\n",
       "      <td>23</td>\n",
       "      <td>890-04-0712</td>\n",
       "      <td>Scientist</td>\n",
       "      <td>66502.76</td>\n",
       "      <td>5379.896667</td>\n",
       "      <td>0</td>\n",
       "      <td>6</td>\n",
       "      <td>1</td>\n",
       "      <td>2</td>\n",
       "      <td>Mortgage Loan, and Personal Loan</td>\n",
       "      <td>10</td>\n",
       "      <td>276.91</td>\n",
       "      <td>High_spent_Medium_value_payments</td>\n",
       "      <td>636.9031701946913</td>\n",
       "      <td>Poor</td>\n",
       "      <td>(0.0, 100000.0]</td>\n",
       "    </tr>\n",
       "    <tr>\n",
       "      <th>1307</th>\n",
       "      <td>CUS_0x258b</td>\n",
       "      <td>Alastair Sharpe</td>\n",
       "      <td>23</td>\n",
       "      <td>890-04-0712</td>\n",
       "      <td>Scientist</td>\n",
       "      <td>66502.76</td>\n",
       "      <td>5379.896667</td>\n",
       "      <td>0</td>\n",
       "      <td>6</td>\n",
       "      <td>1</td>\n",
       "      <td>2</td>\n",
       "      <td>Mortgage Loan, and Personal Loan</td>\n",
       "      <td>8</td>\n",
       "      <td>276.91</td>\n",
       "      <td>High_spent_Large_value_payments</td>\n",
       "      <td>600.4193349655069</td>\n",
       "      <td>Poor</td>\n",
       "      <td>(0.0, 100000.0]</td>\n",
       "    </tr>\n",
       "    <tr>\n",
       "      <th>1308</th>\n",
       "      <td>CUS_0x258b</td>\n",
       "      <td>Alastair Sharpe</td>\n",
       "      <td>23</td>\n",
       "      <td>890-04-0712</td>\n",
       "      <td>Scientist</td>\n",
       "      <td>66502.76</td>\n",
       "      <td>5379.896667</td>\n",
       "      <td>0</td>\n",
       "      <td>6</td>\n",
       "      <td>1</td>\n",
       "      <td>2</td>\n",
       "      <td>Mortgage Loan, and Personal Loan</td>\n",
       "      <td>10</td>\n",
       "      <td>276.91</td>\n",
       "      <td>Low_spent_Large_value_payments</td>\n",
       "      <td>353.22194737954635</td>\n",
       "      <td>Standard</td>\n",
       "      <td>(0.0, 100000.0]</td>\n",
       "    </tr>\n",
       "    <tr>\n",
       "      <th>...</th>\n",
       "      <td>...</td>\n",
       "      <td>...</td>\n",
       "      <td>...</td>\n",
       "      <td>...</td>\n",
       "      <td>...</td>\n",
       "      <td>...</td>\n",
       "      <td>...</td>\n",
       "      <td>...</td>\n",
       "      <td>...</td>\n",
       "      <td>...</td>\n",
       "      <td>...</td>\n",
       "      <td>...</td>\n",
       "      <td>...</td>\n",
       "      <td>...</td>\n",
       "      <td>...</td>\n",
       "      <td>...</td>\n",
       "      <td>...</td>\n",
       "      <td>...</td>\n",
       "    </tr>\n",
       "    <tr>\n",
       "      <th>99737</th>\n",
       "      <td>CUS_0x9674</td>\n",
       "      <td>Damounit</td>\n",
       "      <td>23</td>\n",
       "      <td>949-10-3104</td>\n",
       "      <td>Scientist</td>\n",
       "      <td>18940.82</td>\n",
       "      <td>1281.401667</td>\n",
       "      <td>9</td>\n",
       "      <td>5</td>\n",
       "      <td>33</td>\n",
       "      <td>6</td>\n",
       "      <td>Debt Consolidation Loan, Payday Loan, Not Spec...</td>\n",
       "      <td>17</td>\n",
       "      <td>1327.42</td>\n",
       "      <td>Low_spent_Medium_value_payments</td>\n",
       "      <td>281.975102</td>\n",
       "      <td>Poor</td>\n",
       "      <td>(0.0, 100000.0]</td>\n",
       "    </tr>\n",
       "    <tr>\n",
       "      <th>99739</th>\n",
       "      <td>CUS_0x9674</td>\n",
       "      <td>Damounit</td>\n",
       "      <td>23</td>\n",
       "      <td>949-10-3104</td>\n",
       "      <td>Scientist</td>\n",
       "      <td>18940.82</td>\n",
       "      <td>1281.401667</td>\n",
       "      <td>9</td>\n",
       "      <td>5</td>\n",
       "      <td>33</td>\n",
       "      <td>6</td>\n",
       "      <td>Debt Consolidation Loan, Payday Loan, Not Spec...</td>\n",
       "      <td>15_</td>\n",
       "      <td>1327.42</td>\n",
       "      <td>Low_spent_Small_value_payments</td>\n",
       "      <td>190.360579</td>\n",
       "      <td>Standard</td>\n",
       "      <td>(0.0, 100000.0]</td>\n",
       "    </tr>\n",
       "    <tr>\n",
       "      <th>99740</th>\n",
       "      <td>CUS_0x9674</td>\n",
       "      <td>Damounit</td>\n",
       "      <td>23</td>\n",
       "      <td>949-10-3104</td>\n",
       "      <td>Scientist</td>\n",
       "      <td>18940.82</td>\n",
       "      <td>1281.401667</td>\n",
       "      <td>9</td>\n",
       "      <td>5</td>\n",
       "      <td>33</td>\n",
       "      <td>6</td>\n",
       "      <td>Debt Consolidation Loan, Payday Loan, Not Spec...</td>\n",
       "      <td>15</td>\n",
       "      <td>1327.42</td>\n",
       "      <td>Low_spent_Small_value_payments</td>\n",
       "      <td>233.914423</td>\n",
       "      <td>Poor</td>\n",
       "      <td>(0.0, 100000.0]</td>\n",
       "    </tr>\n",
       "    <tr>\n",
       "      <th>99741</th>\n",
       "      <td>CUS_0x9674</td>\n",
       "      <td>Damounit</td>\n",
       "      <td>23</td>\n",
       "      <td>949-10-3104</td>\n",
       "      <td>Scientist</td>\n",
       "      <td>18940.82</td>\n",
       "      <td>1281.401667</td>\n",
       "      <td>9</td>\n",
       "      <td>5</td>\n",
       "      <td>33</td>\n",
       "      <td>6</td>\n",
       "      <td>Debt Consolidation Loan, Payday Loan, Not Spec...</td>\n",
       "      <td>15</td>\n",
       "      <td>1327.42</td>\n",
       "      <td>High_spent_Medium_value_payments</td>\n",
       "      <td>253.421332</td>\n",
       "      <td>Poor</td>\n",
       "      <td>(0.0, 100000.0]</td>\n",
       "    </tr>\n",
       "    <tr>\n",
       "      <th>99743</th>\n",
       "      <td>CUS_0x9674</td>\n",
       "      <td>Damounit</td>\n",
       "      <td>23</td>\n",
       "      <td>949-10-3104</td>\n",
       "      <td>Scientist</td>\n",
       "      <td>18940.82</td>\n",
       "      <td>1281.401667</td>\n",
       "      <td>9</td>\n",
       "      <td>5</td>\n",
       "      <td>33</td>\n",
       "      <td>192</td>\n",
       "      <td>Debt Consolidation Loan, Payday Loan, Not Spec...</td>\n",
       "      <td>13</td>\n",
       "      <td>1327.42</td>\n",
       "      <td>High_spent_Small_value_payments</td>\n",
       "      <td>255.656047</td>\n",
       "      <td>Poor</td>\n",
       "      <td>(0.0, 100000.0]</td>\n",
       "    </tr>\n",
       "  </tbody>\n",
       "</table>\n",
       "<p>119 rows × 18 columns</p>\n",
       "</div>"
      ],
      "text/plain": [
       "      Customer_ID             Name Age          SSN Occupation  Annual_Income  \\\n",
       "0       CUS_0xd40    Aaron Maashoh  23  821-00-0265  Scientist       19114.12   \n",
       "6       CUS_0xd40    Aaron Maashoh  23  821-00-0265  Scientist       19114.12   \n",
       "1306   CUS_0x258b  Alastair Sharpe  23  890-04-0712  Scientist       66502.76   \n",
       "1307   CUS_0x258b  Alastair Sharpe  23  890-04-0712  Scientist       66502.76   \n",
       "1308   CUS_0x258b  Alastair Sharpe  23  890-04-0712  Scientist       66502.76   \n",
       "...           ...              ...  ..          ...        ...            ...   \n",
       "99737  CUS_0x9674         Damounit  23  949-10-3104  Scientist       18940.82   \n",
       "99739  CUS_0x9674         Damounit  23  949-10-3104  Scientist       18940.82   \n",
       "99740  CUS_0x9674         Damounit  23  949-10-3104  Scientist       18940.82   \n",
       "99741  CUS_0x9674         Damounit  23  949-10-3104  Scientist       18940.82   \n",
       "99743  CUS_0x9674         Damounit  23  949-10-3104  Scientist       18940.82   \n",
       "\n",
       "       Monthly_Inhand_Salary  Num_Bank_Accounts  Num_Credit_Card  \\\n",
       "0                1824.843333                  3                4   \n",
       "6                1824.843333                  3                4   \n",
       "1306             5379.896667                  0                6   \n",
       "1307             5379.896667                  0                6   \n",
       "1308             5379.896667                  0                6   \n",
       "...                      ...                ...              ...   \n",
       "99737            1281.401667                  9                5   \n",
       "99739            1281.401667                  9                5   \n",
       "99740            1281.401667                  9                5   \n",
       "99741            1281.401667                  9                5   \n",
       "99743            1281.401667                  9                5   \n",
       "\n",
       "       Interest_Rate Num_of_Loan  \\\n",
       "0                  3           4   \n",
       "6                  3           4   \n",
       "1306               1           2   \n",
       "1307               1           2   \n",
       "1308               1           2   \n",
       "...              ...         ...   \n",
       "99737             33           6   \n",
       "99739             33           6   \n",
       "99740             33           6   \n",
       "99741             33           6   \n",
       "99743             33         192   \n",
       "\n",
       "                                            Type_of_Loan  \\\n",
       "0      Auto Loan, Credit-Builder Loan, Personal Loan,...   \n",
       "6      Auto Loan, Credit-Builder Loan, Personal Loan,...   \n",
       "1306                    Mortgage Loan, and Personal Loan   \n",
       "1307                    Mortgage Loan, and Personal Loan   \n",
       "1308                    Mortgage Loan, and Personal Loan   \n",
       "...                                                  ...   \n",
       "99737  Debt Consolidation Loan, Payday Loan, Not Spec...   \n",
       "99739  Debt Consolidation Loan, Payday Loan, Not Spec...   \n",
       "99740  Debt Consolidation Loan, Payday Loan, Not Spec...   \n",
       "99741  Debt Consolidation Loan, Payday Loan, Not Spec...   \n",
       "99743  Debt Consolidation Loan, Payday Loan, Not Spec...   \n",
       "\n",
       "      Num_of_Delayed_Payment Outstanding_Debt  \\\n",
       "0                          7           809.98   \n",
       "6                         8_           809.98   \n",
       "1306                      10           276.91   \n",
       "1307                       8           276.91   \n",
       "1308                      10           276.91   \n",
       "...                      ...              ...   \n",
       "99737                     17          1327.42   \n",
       "99739                    15_          1327.42   \n",
       "99740                     15          1327.42   \n",
       "99741                     15          1327.42   \n",
       "99743                     13          1327.42   \n",
       "\n",
       "                      Payment_Behaviour     Monthly_Balance Credit_Score  \\\n",
       "0       High_spent_Small_value_payments  312.49408867943663         Good   \n",
       "6        Low_spent_Small_value_payments   244.5653167062043         Good   \n",
       "1306   High_spent_Medium_value_payments   636.9031701946913         Poor   \n",
       "1307    High_spent_Large_value_payments   600.4193349655069         Poor   \n",
       "1308     Low_spent_Large_value_payments  353.22194737954635     Standard   \n",
       "...                                 ...                 ...          ...   \n",
       "99737   Low_spent_Medium_value_payments          281.975102         Poor   \n",
       "99739    Low_spent_Small_value_payments          190.360579     Standard   \n",
       "99740    Low_spent_Small_value_payments          233.914423         Poor   \n",
       "99741  High_spent_Medium_value_payments          253.421332         Poor   \n",
       "99743   High_spent_Small_value_payments          255.656047         Poor   \n",
       "\n",
       "          Income_Group  \n",
       "0      (0.0, 100000.0]  \n",
       "6      (0.0, 100000.0]  \n",
       "1306   (0.0, 100000.0]  \n",
       "1307   (0.0, 100000.0]  \n",
       "1308   (0.0, 100000.0]  \n",
       "...                ...  \n",
       "99737  (0.0, 100000.0]  \n",
       "99739  (0.0, 100000.0]  \n",
       "99740  (0.0, 100000.0]  \n",
       "99741  (0.0, 100000.0]  \n",
       "99743  (0.0, 100000.0]  \n",
       "\n",
       "[119 rows x 18 columns]"
      ]
     },
     "execution_count": 129,
     "metadata": {},
     "output_type": "execute_result"
    }
   ],
   "source": [
    "#df_customer[df_customer[\"Age\"] == 31]\n",
    "df_customer[(df_customer[\"Age\"] == \"23\") & (df_customer[\"Occupation\"] == \"Scientist\")]\n"
   ]
  },
  {
   "cell_type": "code",
   "execution_count": null,
   "metadata": {},
   "outputs": [],
   "source": []
  },
  {
   "cell_type": "markdown",
   "metadata": {},
   "source": []
  }
 ],
 "metadata": {
  "kernelspec": {
   "display_name": "base",
   "language": "python",
   "name": "python3"
  },
  "language_info": {
   "codemirror_mode": {
    "name": "ipython",
    "version": 3
   },
   "file_extension": ".py",
   "mimetype": "text/x-python",
   "name": "python",
   "nbconvert_exporter": "python",
   "pygments_lexer": "ipython3",
   "version": "3.9.13"
  }
 },
 "nbformat": 4,
 "nbformat_minor": 2
}
